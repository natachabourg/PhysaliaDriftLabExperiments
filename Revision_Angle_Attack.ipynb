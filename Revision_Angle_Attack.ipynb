{
 "cells": [
  {
   "cell_type": "code",
   "execution_count": 2,
   "id": "1cbc3f93",
   "metadata": {},
   "outputs": [],
   "source": [
    "from datetime import timedelta\n",
    "import cv2\n",
    "import numpy as np\n",
    "import os\n",
    "import matplotlib.pyplot as plt\n",
    "import matplotlib.pyplot as plt\n",
    "import numpy as np\n",
    "import keyboard"
   ]
  },
  {
   "cell_type": "code",
   "execution_count": 3,
   "id": "11ba3744",
   "metadata": {},
   "outputs": [],
   "source": [
    "def format_timedelta(td):\n",
    "    result= str(td)\n",
    "    try:\n",
    "        result,ms = result.split(\".\")\n",
    "    except ValueError:\n",
    "        return (result+\".00\").replace(\":\",\"-\")\n",
    "    ms = int(ms)\n",
    "    ms = round(ms/1e4)\n",
    "    \n",
    "    return f\"{result}.{ms:02}\".replace(\":\",\"-\")\n",
    "\n",
    "\n",
    "\n",
    "def get_saving_frames_durations(cap, saving_fps):\n",
    "    \n",
    "    \"\"\"\n",
    "    A function that returns the list of durations where to save the frames\n",
    "    \"\"\"\n",
    "    \n",
    "    s = []\n",
    "    \n",
    "    # get the clip duration by dividing number of frames by the number of frames per second\n",
    "    clip_duration = cap.get(cv2.CAP_PROP_FRAME_COUNT) / cap.get(cv2.CAP_PROP_FPS)\n",
    "    \n",
    "    # use np.arange() to make floating-point steps\n",
    "    for i in np.arange(0, clip_duration, 1 / saving_fps):\n",
    "        s.append(i)\n",
    "    \n",
    "    return s\n",
    "\n",
    "def read_images(video_file, SAVING_FRAMES_PER_SECOND):\n",
    "    \n",
    "    frames=[]\n",
    "    \n",
    "    filename, _ = os.path.splitext(video_file)\n",
    "    filename += \"-opencv\"\n",
    "    \n",
    "    # make a folder by the name of the video file\n",
    "    if not os.path.isdir(filename):\n",
    "        os.mkdir(filename)\n",
    "        \n",
    "    # read the video file    \n",
    "    cap = cv2.VideoCapture(video_file)\n",
    "    \n",
    "    \n",
    "    # get the FPS of the video\n",
    "    fps = cap.get(cv2.CAP_PROP_FPS)\n",
    "    \n",
    "    # if the SAVING_FRAMES_PER_SECOND is above video FPS, then set it to FPS (as maximum)\n",
    "    saving_frames_per_second = min(fps, SAVING_FRAMES_PER_SECOND)\n",
    "    \n",
    "    # get the list of duration spots to save\n",
    "    saving_frames_durations = get_saving_frames_durations(cap, saving_frames_per_second)\n",
    "    # start the loop\n",
    "    count = 0\n",
    "    \n",
    "    while True:\n",
    "        is_read, frame = cap.read()\n",
    "        \n",
    "\n",
    "        if not is_read:\n",
    "            # break out of the loop if there are no frames to read\n",
    "            break\n",
    "        # get the duration by dividing the frame count by the FPS\n",
    "        frame_duration = count / fps\n",
    "        \n",
    "        try:\n",
    "            # get the earliest duration to save\n",
    "            closest_duration = saving_frames_durations[0]\n",
    "        except IndexError:\n",
    "            # the list is empty, all duration frames were saved\n",
    "            break\n",
    "        \n",
    "        if frame_duration >= closest_duration:\n",
    "            # if closest duration is less than or equals the frame duration, \n",
    "            # then save the frame\n",
    "            frame_duration_formatted = format_timedelta(timedelta(seconds=frame_duration))\n",
    "            \n",
    "            cv2.imwrite(os.path.join(filename, f\"frame{frame_duration_formatted}.jpg\"), frame) \n",
    "            # drop the duration spot from the list, since this duration spot is already saved\n",
    "            try:\n",
    "                saving_frames_durations.pop(0)\n",
    "            except IndexError:\n",
    "                pass\n",
    "    \n",
    "        # increment the frame count\n",
    "        frames.append(frame)\n",
    "\n",
    "        count += 1\n",
    "        \n",
    "    return frames"
   ]
  },
  {
   "cell_type": "code",
   "execution_count": 4,
   "id": "3f7846f1",
   "metadata": {},
   "outputs": [],
   "source": [
    "\n",
    "class ClickRecorder:\n",
    "    def __init__(self, image):\n",
    "        self.positions = []\n",
    "        self.clicks = 0\n",
    "        self.fig, self.ax = plt.subplots(figsize=(20,10))\n",
    "        self.ax.imshow(image)\n",
    "        self.ax.set_title('Cliquez pour enregistrer les positions')\n",
    "        self.cid = self.fig.canvas.mpl_connect('button_press_event', self.onclick)\n",
    "        self.stop_key = 'escape'  # Touche pour arrêter l'enregistrement (ici, 'Esc')\n",
    "        \n",
    "    def onclick(self, event):\n",
    "        self.clicks += 1\n",
    "        if self.clicks <= 2:\n",
    "            self.positions.append((event.xdata, event.ydata))\n",
    "        if self.clicks == 2:\n",
    "            self.fig.canvas.mpl_disconnect(self.cid)\n",
    "            plt.close(self.fig)\n",
    "\n",
    "    def check_stop(self, event):\n",
    "        return event.key == self.stop_key\n",
    "\n",
    "    def get_positions(self):\n",
    "        if len(self.positions) >= 2:\n",
    "            return self.positions[0], self.positions[1]\n",
    "        else:\n",
    "            return None\n",
    "\n",
    "        \n",
    "def get_angle(image):\n",
    "    click_recorder = ClickRecorder(image)\n",
    "    \n",
    "    \n",
    "    # Définir une fonction pour gérer les événements clavier\n",
    "    def on_key(event):\n",
    "        if click_recorder.check_stop(event):\n",
    "            click_recorder.clicks = 2\n",
    "            click_recorder.fig.canvas.mpl_disconnect(key_cid)\n",
    "            plt.close(click_recorder.fig)\n",
    "\n",
    "    # Connecter la fonction de gestion des événements clavier\n",
    "    key_cid = click_recorder.fig.canvas.mpl_connect('key_press_event', on_key)\n",
    "\n",
    "    plt.show()\n",
    "\n",
    "    while not click_recorder.clicks==2:\n",
    "        plt.pause(0.1)\n",
    "    \n",
    "    # Accès aux positions après la fermeture du graphique\n",
    "    positions = click_recorder.get_positions()\n",
    "    if positions is not None:\n",
    "        x_a, y_a = positions[0]\n",
    "        x_b, y_b = positions[1]\n",
    "\n",
    "        angle = np.arctan((x_b-x_a)/(y_b-y_a))*180/np.pi\n",
    "        return angle\n",
    "    "
   ]
  },
  {
   "cell_type": "code",
   "execution_count": 5,
   "id": "cba38fa6",
   "metadata": {},
   "outputs": [],
   "source": [
    "%matplotlib qt"
   ]
  },
  {
   "cell_type": "code",
   "execution_count": 7,
   "id": "dfe47b6d",
   "metadata": {},
   "outputs": [],
   "source": [
    "ws = 10\n",
    "for model in ['L','R']:\n",
    "    \n",
    "    angles=[]\n",
    "\n",
    "    for run in range(1,3):\n",
    "        video_number = str(ws)+'ms_'+model+'11111_Run'+str(run)\n",
    "\n",
    "        path_video = '/media/nbourg/One Touch/Bluebottle/LuminyFlumePaper/submission_MPB/revision/GoProAngleAttack/'\n",
    "\n",
    "        video_file = path_video+video_number+'.MP4'\n",
    "        save_fps = .5\n",
    "\n",
    "        frames = np.array(read_images(video_file,save_fps))\n",
    "\n",
    "        for i in range(0,len(frames),60):\n",
    "            angles.append(get_angle(frames[i]))\n",
    "    \n",
    "    np.save(path_video+'npys/'+video_number[:-5]+'.npy',angles,allow_pickle=True)"
   ]
  },
  {
   "cell_type": "code",
   "execution_count": 9,
   "id": "0c4ac91b",
   "metadata": {},
   "outputs": [],
   "source": [
    "%matplotlib inline"
   ]
  },
  {
   "cell_type": "code",
   "execution_count": 10,
   "id": "03946662",
   "metadata": {},
   "outputs": [
    {
     "data": {
      "image/png": "[encoded data removed]",
      "text/plain": [
       "<Figure size 432x288 with 1 Axes>"
      ]
     },
     "metadata": {
      "needs_background": "light"
     },
     "output_type": "display_data"
    }
   ],
   "source": [
    "fig,ax=plt.subplots()\n",
    "model='L'\n",
    "\n",
    "for ws in [1,2,4,6,8,10,12]:\n",
    "\n",
    "    video_number = str(ws)+'ms_'+model+'11111_Run1'\n",
    "\n",
    "    path_video = '/media/nbourg/One Touch/Bluebottle/LuminyFlumePaper/submission_MPB/revision/GoProAngleAttack/'\n",
    "\n",
    "    angle = np.load(path_video+'npys/'+video_number[:-5]+'.npy',allow_pickle=True)\n",
    "    all_angle = []\n",
    "    \n",
    "    for a in angle:\n",
    "        if a is not None:\n",
    "            if a <0 :\n",
    "                \n",
    "                all_angle.append(a+180)\n",
    "            else:\n",
    "                all_angle.append(a)\n",
    "    \n",
    "    #ax.boxplot(all_angle,positions=[ws])\n",
    "    ax.scatter(ws*np.ones(len(all_angle)), all_angle)"
   ]
  },
  {
   "cell_type": "code",
   "execution_count": 11,
   "id": "b0471c14",
   "metadata": {},
   "outputs": [
    {
     "data": {
      "image/png": "[encoded data removed]",
      "text/plain": [
       "<Figure size 432x288 with 1 Axes>"
      ]
     },
     "metadata": {
      "needs_background": "light"
     },
     "output_type": "display_data"
    }
   ],
   "source": [
    "fig,ax=plt.subplots()\n",
    "model='R'\n",
    "\n",
    "for ws in [1,2,4,6,8,10,12]:\n",
    "\n",
    "    video_number = str(ws)+'ms_'+model+'11111_Run1'\n",
    "\n",
    "    path_video = '/media/nbourg/One Touch/Bluebottle/LuminyFlumePaper/submission_MPB/revision/GoProAngleAttack/'\n",
    "\n",
    "    angle = np.load(path_video+'npys/'+video_number[:-5]+'.npy',allow_pickle=True)\n",
    "    all_angle = []\n",
    "    \n",
    "    for a in angle:\n",
    "        if a is not None:\n",
    "            all_angle.append(a)\n",
    "    \n",
    "    #ax.boxplot(all_angle,positions=[ws])\n",
    "    ax.scatter(ws*np.ones(len(all_angle)), all_angle)"
   ]
  },
  {
   "cell_type": "code",
   "execution_count": 12,
   "id": "4ae52562",
   "metadata": {},
   "outputs": [
    {
     "data": {
      "image/png": "[encoded data removed]",
      "text/plain": [
       "<Figure size 432x288 with 1 Axes>"
      ]
     },
     "metadata": {
      "needs_background": "light"
     },
     "output_type": "display_data"
    }
   ],
   "source": [
    "fig,ax=plt.subplots()\n",
    "model='R'\n",
    "\n",
    "for ws in [1,2,4,6,8,10,12]:\n",
    "\n",
    "    video_number = str(ws)+'ms_'+model+'11111_Run1'\n",
    "\n",
    "    path_video = '/media/nbourg/One Touch/Bluebottle/LuminyFlumePaper/submission_MPB/revision/GoProAngleAttack/'\n",
    "\n",
    "    angle = np.load(path_video+'npys/'+video_number[:-5]+'.npy',allow_pickle=True)\n",
    "    all_angle = []\n",
    "    \n",
    "    for a in angle:\n",
    "        if a is not None:\n",
    "            if a <0 :\n",
    "                \n",
    "                all_angle.append(a+180)\n",
    "            else:\n",
    "                all_angle.append(a)\n",
    "    \n",
    "    #ax.boxplot(all_angle,positions=[ws])\n",
    "    ax.scatter(ws*np.ones(len(all_angle)), all_angle)"
   ]
  },
  {
   "cell_type": "code",
   "execution_count": 13,
   "id": "9fc89cf5",
   "metadata": {},
   "outputs": [
    {
     "name": "stdout",
     "output_type": "stream",
     "text": [
      "[ 1.27681702  2.57378534  5.35451352  8.12434879  9.51956871 10.92273793\n",
      " 13.86621703 16.84019246]\n"
     ]
    }
   ],
   "source": [
    "# U10 equivalents from Elpida Vonta's report\n",
    "z0 = 1e-3 * np.array([0.066 - 0.3 * (0.129 - 0.066),\n",
    "                     0.066,\n",
    "                     0.272,\n",
    "                     0.383,\n",
    "                     np.mean([0.383, 0.483]),\n",
    "                     0.483,\n",
    "                     0.721,\n",
    "                     0.721 + (0.721 - 0.483)])\n",
    "\n",
    "ws = np.array([1, 2, 4, 6, 7, 8, 10, 12])\n",
    "U10 = ws * np.log(10 / z0) / np.log(0.7 / z0)\n",
    "print(U10)"
   ]
  },
  {
   "cell_type": "code",
   "execution_count": 16,
   "id": "6e84e5d3",
   "metadata": {},
   "outputs": [
    {
     "name": "stdout",
     "output_type": "stream",
     "text": [
      "[ 1.27681702  2.57378534  5.35451352  8.12434879  9.51956871 10.92273793\n",
      " 13.86621703 16.84019246]\n"
     ]
    }
   ],
   "source": [
    "ws = np.array([1, 2, 4, 6, 7, 8, 10, 12])\n",
    "U10 = ws * np.log(10 / z0) / np.log(0.7 / z0)\n",
    "print(U10)\n",
    "\n",
    "U102 = np.array([U10[0],U10[1],U10[2],U10[3],U10[5],U10[6],U10[7]])"
   ]
  },
  {
   "cell_type": "code",
   "execution_count": 15,
   "id": "f3aab800",
   "metadata": {},
   "outputs": [],
   "source": [
    "drift_angle = np.load('/media/nbourg/One Touch/Bluebottle/LuminyFlumePaper/submission_MPB/revision/ave_drift_angle.npy')\n"
   ]
  },
  {
   "cell_type": "code",
   "execution_count": 80,
   "id": "e962e66b",
   "metadata": {},
   "outputs": [
    {
     "data": {
      "image/png": "[encoded data removed]",
      "text/plain": [
       "<Figure size 324x216 with 1 Axes>"
      ]
     },
     "metadata": {
      "needs_background": "light"
     },
     "output_type": "display_data"
    }
   ],
   "source": [
    "import scienceplots\n",
    "attack_angle = np.nan*np.ones(drift_angle.shape)\n",
    "plt.style.use([\"science\", \"high-contrast\"])\n",
    "\n",
    "fig,ax=plt.subplots(figsize=(4.5,3))\n",
    "ax.set_ylabel('Angle of attack [°]', fontsize=11)\n",
    "ax.set_xlabel('U10 $[m.s^{-1}]$', fontsize=11)\n",
    "\n",
    "# Add x-axis gridlines\n",
    "for ws,u,idx_aa in zip([1,2,4,6,8,10,12],U102,[0,1,2,3,5,6,7]):\n",
    "    model='L'\n",
    "    video_number = str(ws)+'ms_'+model+'11111_Run1'\n",
    "\n",
    "    path_video = '/media/nbourg/One Touch/Bluebottle/LuminyFlumePaper/submission_MPB/revision/GoProAngleAttack/'\n",
    "\n",
    "    angle = np.load(path_video+'npys/'+video_number[:-5]+'.npy',allow_pickle=True)\n",
    "    all_angle = []\n",
    "    \n",
    "    for a in angle:\n",
    "        if a is not None:\n",
    "            if a < 0:\n",
    "                all_angle.append(180+a)\n",
    "            else:\n",
    "                all_angle.append(a)  \n",
    "    ax.scatter(u*np.ones(len(all_angle)), (all_angle),c='lightsteelblue',s=20,alpha=.7,zorder=4,marker='D')\n",
    "    model='R'\n",
    "    \n",
    "    video_number = str(ws)+'ms_'+model+'11111_Run1'\n",
    "\n",
    "    path_video = '/media/nbourg/One Touch/Bluebottle/LuminyFlumePaper/submission_MPB/revision/GoProAngleAttack/'\n",
    "\n",
    "    angle = np.load(path_video+'npys/'+video_number[:-5]+'.npy',allow_pickle=True)\n",
    "    all_angle2 = []\n",
    "    \n",
    "    for a in angle:\n",
    "        if a is not None:\n",
    "            if -a < 0:\n",
    "                all_angle2.append(180-a)\n",
    "            else:\n",
    "                \n",
    "                all_angle2.append(-a)\n",
    "            \n",
    "    \n",
    "    ax.scatter(u*np.ones(len(all_angle2)), (all_angle2),c='lightsteelblue',s=20,alpha=.7,zorder=4,marker='D')\n",
    "    \n",
    "    all_angles=np.concatenate([all_angle,all_angle2])\n",
    "    \n",
    "    attack_angle[idx_aa] = np.nanmean((all_angles))\n",
    "    \n",
    "    ax.scatter(u,np.nanmean((all_angles)),c='darkslateblue',s=150,alpha=1,zorder=5,marker='o')\n",
    "#ax.xaxis.grid(alpha=0.6, linewidth=0.1)\n",
    "ax.set_xlim(0.5, 17.5)\n",
    "#ax.yaxis.grid(linestyle='--', which='minor',alpha=0.6)\n",
    "ax.set_xticks([2, 4, 6, 8, 10, 12, 14, 16])\n",
    "ax.yaxis.grid(zorder=0, alpha=0.6)\n",
    "fig.savefig('FIG_AngleAttacknoNeg.png', dpi=500, facecolor='w',bbox_inches='tight')\n"
   ]
  },
  {
   "cell_type": "code",
   "execution_count": 18,
   "id": "12c05548",
   "metadata": {},
   "outputs": [
    {
     "data": {
      "text/plain": [
       "array([41.32291875, 32.32234702, 25.60774221, 15.08779251,  8.92630903,\n",
       "        6.00140659,  6.13970287,  4.94444269])"
      ]
     },
     "execution_count": 18,
     "metadata": {},
     "output_type": "execute_result"
    }
   ],
   "source": [
    "drift_angle"
   ]
  },
  {
   "cell_type": "code",
   "execution_count": 19,
   "id": "f2409e8b",
   "metadata": {},
   "outputs": [
    {
     "data": {
      "image/png": "[encoded data removed]",
      "text/plain": [
       "<Figure size 216x144 with 1 Axes>"
      ]
     },
     "metadata": {
      "needs_background": "light"
     },
     "output_type": "display_data"
    }
   ],
   "source": [
    "fig,ax=plt.subplots(figsize=(3,2))\n",
    "ax.set_ylim(0,110)\n",
    "ax.axhline(90,c='k')\n",
    "ax.set_xlim(0.5, 17.5)\n",
    "ax.yaxis.grid(zorder=0, alpha=0.6,which='major')\n",
    "ax.yaxis.grid(zorder=0, alpha=0.6,which='minor',linestyle='--')\n",
    "\n",
    "ax.set_xticks([2, 4, 6, 8, 10, 12, 14, 16])\n",
    "ax.set_ylabel('Angle attack+drift angle')\n",
    "ax.scatter(U10,attack_angle+drift_angle,c='k',zorder=5,s=50)\n",
    "ax.plot(U10[~np.isnan(attack_angle)],\n",
    "        attack_angle[~np.isnan(attack_angle)]+drift_angle[~np.isnan(attack_angle)],c='k',linestyle='--')\n",
    "\n",
    "ax.set_xlabel('U10 $[m.s^{-1}]$', fontsize=11)\n",
    "fig.savefig('FIG_AngleAttack+DriftAngleNoNeg.png', dpi=500, facecolor='w',bbox_inches='tight')\n"
   ]
  },
  {
   "cell_type": "code",
   "execution_count": null,
   "id": "fbc558b0",
   "metadata": {},
   "outputs": [],
   "source": [
    "90-15"
   ]
  },
  {
   "cell_type": "code",
   "execution_count": 20,
   "id": "d19740e8",
   "metadata": {},
   "outputs": [
    {
     "data": {
      "image/png": "[encoded data removed]",
      "text/plain": [
       "<Figure size 216x360 with 2 Axes>"
      ]
     },
     "metadata": {
      "needs_background": "light"
     },
     "output_type": "display_data"
    }
   ],
   "source": [
    "fig,ax=plt.subplots(figsize=(3,5),nrows=2,sharex=True)\n",
    "\n",
    "ax[0].scatter(U10,attack_angle,c=U10,cmap='RdBu_r',zorder=5,s=50)\n",
    "ax[0].plot(U10[~np.isnan(attack_angle)],\n",
    "        attack_angle[~np.isnan(attack_angle)],c='k',linestyle='--')\n",
    "ax[0].set_ylabel('Angle of attack [°]')\n",
    "#ax[0].set_ylim(15,65)\n",
    "ax[0].yaxis.grid(zorder=0, alpha=0.6,which='major')\n",
    "\n",
    "ax[1].set_ylim(0,110)\n",
    "ax[1].axhline(90,c='k')\n",
    "ax[1].set_xlim(0.5, 17.5)\n",
    "ax[1].yaxis.grid(zorder=0, alpha=0.6,which='major')\n",
    "ax[1].yaxis.grid(zorder=0, alpha=0.6,which='minor',linestyle='--')\n",
    "\n",
    "ax[1].set_xticks([2, 4, 6, 8, 10, 12, 14, 16])\n",
    "ax[1].set_ylabel('Angle attack+drift angle')\n",
    "ax[1].scatter(U10,attack_angle+drift_angle,c=U10,cmap='RdBu_r',zorder=5,s=50)\n",
    "ax[1].plot(U10[~np.isnan(attack_angle)],\n",
    "        attack_angle[~np.isnan(attack_angle)]+drift_angle[~np.isnan(attack_angle)],c='k',linestyle='--')\n",
    "\n",
    "ax[1].set_xlabel('U10 $[m.s^{-1}]$', fontsize=11)\n",
    "fig.savefig('FIG2_AngleAttack+DriftAngleNoNeg.png', dpi=500, facecolor='w',bbox_inches='tight')\n"
   ]
  },
  {
   "cell_type": "code",
   "execution_count": 25,
   "id": "e68265e9",
   "metadata": {},
   "outputs": [
    {
     "data": {
      "text/plain": [
       "[(0.9953248750480584, 0.9148635140330642, 0.9015148019992311, 1.0),\n",
       " (0.9914033064206075, 0.8580853517877739, 0.8448135332564398, 1.0),\n",
       " (0.9842368319876971, 0.6965782391387928, 0.7309496347558632, 1.0),\n",
       " (0.9706574394463667, 0.4450595924644368, 0.6449058054594388, 1.0),\n",
       " (0.9190465205690119, 0.3086812764321415, 0.6123029603998462, 1.0),\n",
       " (0.8399231064975011, 0.17490196078431391, 0.577931564782776, 1.0),\n",
       " (0.5751941560938101, 0.00392156862745098, 0.47969242599000383, 1.0),\n",
       " (0.2983314109957709, 0.00024605920799692423, 0.41888504421376394, 1.0)]"
      ]
     },
     "execution_count": 25,
     "metadata": {},
     "output_type": "execute_result"
    }
   ],
   "source": [
    "\n",
    "cmaplines  = 'RdPu'\n",
    "model = '11111'\n",
    "cmaprdpu = cmap= plt.get_cmap(cmaplines)\n",
    "col = [cmaprdpu(u / 17) for u in U10]\n",
    "col"
   ]
  },
  {
   "cell_type": "code",
   "execution_count": 37,
   "id": "9b6ff08e",
   "metadata": {},
   "outputs": [
    {
     "name": "stderr",
     "output_type": "stream",
     "text": [
      "*c* argument looks like a single numeric RGB or RGBA sequence, which should be avoided as value-mapping will have precedence in case its length matches with *x* & *y*.  Please use the *color* keyword-argument or provide a 2D array with a single row if you intend to specify the same RGB or RGBA value for all points.\n",
      "*c* argument looks like a single numeric RGB or RGBA sequence, which should be avoided as value-mapping will have precedence in case its length matches with *x* & *y*.  Please use the *color* keyword-argument or provide a 2D array with a single row if you intend to specify the same RGB or RGBA value for all points.\n",
      "*c* argument looks like a single numeric RGB or RGBA sequence, which should be avoided as value-mapping will have precedence in case its length matches with *x* & *y*.  Please use the *color* keyword-argument or provide a 2D array with a single row if you intend to specify the same RGB or RGBA value for all points.\n",
      "*c* argument looks like a single numeric RGB or RGBA sequence, which should be avoided as value-mapping will have precedence in case its length matches with *x* & *y*.  Please use the *color* keyword-argument or provide a 2D array with a single row if you intend to specify the same RGB or RGBA value for all points.\n",
      "*c* argument looks like a single numeric RGB or RGBA sequence, which should be avoided as value-mapping will have precedence in case its length matches with *x* & *y*.  Please use the *color* keyword-argument or provide a 2D array with a single row if you intend to specify the same RGB or RGBA value for all points.\n",
      "*c* argument looks like a single numeric RGB or RGBA sequence, which should be avoided as value-mapping will have precedence in case its length matches with *x* & *y*.  Please use the *color* keyword-argument or provide a 2D array with a single row if you intend to specify the same RGB or RGBA value for all points.\n",
      "*c* argument looks like a single numeric RGB or RGBA sequence, which should be avoided as value-mapping will have precedence in case its length matches with *x* & *y*.  Please use the *color* keyword-argument or provide a 2D array with a single row if you intend to specify the same RGB or RGBA value for all points.\n",
      "*c* argument looks like a single numeric RGB or RGBA sequence, which should be avoided as value-mapping will have precedence in case its length matches with *x* & *y*.  Please use the *color* keyword-argument or provide a 2D array with a single row if you intend to specify the same RGB or RGBA value for all points.\n"
     ]
    },
    {
     "data": {
      "image/png": "[encoded data removed]",
      "text/plain": [
       "<Figure size 216x144 with 2 Axes>"
      ]
     },
     "metadata": {
      "needs_background": "light"
     },
     "output_type": "display_data"
    }
   ],
   "source": [
    "import matplotlib as mpl\n",
    "\n",
    "plt.style.use([\"science\", \"high-contrast\"])\n",
    "fig,ax=plt.subplots(figsize=(3,2))\n",
    "ax.set_facecolor('w')\n",
    "ax.yaxis.grid(zorder=0, alpha=0.6,which='major')\n",
    "ax.xaxis.grid(zorder=0, alpha=0.6,which='major')\n",
    "ax.set_xlim(0,90)\n",
    "ax.set_ylim(0,50)\n",
    "ax.set_xlabel('Angle of attack [°]')\n",
    "ax.set_ylabel('Drift angle [°]')\n",
    "for a,d,c in zip(attack_angle,drift_angle,col):\n",
    "    ax.scatter(a,d,c=c,s=80,zorder=5)\n",
    "bounds = [2, 5, 8, 11, 14, 17]\n",
    "norm = mpl.colors.BoundaryNorm(bounds, cmap.N)\n",
    "sm = plt.cm.ScalarMappable(cmap=cmaplines, norm=norm)\n",
    "\n",
    "fig.colorbar(sm,label='U10 [m.s$^{-1}$]')\n",
    "fig.savefig('FIG_AngleAttackvsDriftAngleNoNeg.png', dpi=500, facecolor='w',bbox_inches='tight')\n"
   ]
  },
  {
   "cell_type": "markdown",
   "id": "14296152",
   "metadata": {},
   "source": [
    "\n",
    "plt.style.use([\"science\", \"high-contrast\"])\n",
    "fig,ax=plt.subplots(figsize=(3,2))\n",
    "ax.yaxis.grid(zorder=0, alpha=0.6,which='major')\n",
    "ax.xaxis.grid(zorder=0, alpha=0.6,which='major')\n",
    "ax.set_ylim(15,65)\n",
    "ax.set_xlim(0,40)\n",
    "ax.set_ylabel('Angle of attack [°]')\n",
    "ax.set_xlabel('Drift angle [°]')\n",
    "sc=ax.scatter(drift_angle,attack_angle,c=U10,s=80,zorder=5,cmap='RdBu_r')\n",
    "fig.colorbar(sc,label='U10 m.s$^{-1}$')\n",
    "fig.savefig('FIG_DriftAnglevsAngleAttack.png', dpi=500, facecolor='w',bbox_inches='tight')\n"
   ]
  },
  {
   "cell_type": "code",
   "execution_count": null,
   "id": "8dc7116e",
   "metadata": {},
   "outputs": [],
   "source": []
  },
  {
   "cell_type": "code",
   "execution_count": null,
   "id": "82d1dc88",
   "metadata": {},
   "outputs": [],
   "source": []
  }
 ],
 "metadata": {
  "kernelspec": {
   "display_name": "Python 3 (ipykernel)",
   "language": "python",
   "name": "python3"
  },
  "language_info": {
   "codemirror_mode": {
    "name": "ipython",
    "version": 3
   },
   "file_extension": ".py",
   "mimetype": "text/x-python",
   "name": "python",
   "nbconvert_exporter": "python",
   "pygments_lexer": "ipython3",
   "version": "3.9.7"
  }
 },
 "nbformat": 4,
 "nbformat_minor": 5
}
